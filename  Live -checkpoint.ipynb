{
 "cells": [
  {
   "cell_type": "code",
   "execution_count": 3,
   "metadata": {},
   "outputs": [
    {
     "name": "stderr",
     "output_type": "stream",
     "text": [
      "Traceback (most recent call last):\n",
      "  File \"C:\\Users\\hp\\Anaconda3\\lib\\site-packages\\matplotlib\\cbook\\__init__.py\", line 216, in process\n",
      "    func(*args, **kwargs)\n",
      "  File \"C:\\Users\\hp\\Anaconda3\\lib\\site-packages\\matplotlib\\animation.py\", line 953, in _start\n",
      "    self._init_draw()\n",
      "  File \"C:\\Users\\hp\\Anaconda3\\lib\\site-packages\\matplotlib\\animation.py\", line 1732, in _init_draw\n",
      "    self._draw_frame(next(self.new_frame_seq()))\n",
      "  File \"C:\\Users\\hp\\Anaconda3\\lib\\site-packages\\matplotlib\\animation.py\", line 1755, in _draw_frame\n",
      "    self._drawn_artists = self._func(framedata, *self._args)\n",
      "  File \"<ipython-input-3-0e637277c327>\", line 12, in animate\n",
      "    plot_data = open('test.txt','r').read()\n",
      "FileNotFoundError: [Errno 2] No such file or directory: 'test.txt'\n"
     ]
    },
    {
     "data": {
      "image/png": "[encoded data removed]",
      "text/plain": [
       "<Figure size 432x288 with 1 Axes>"
      ]
     },
     "metadata": {},
     "output_type": "display_data"
    }
   ],
   "source": [
    "import matplotlib.animation as animation\n",
    "from matplotlib import style\n",
    "import matplotlib.pyplot as plt\n",
    "\n",
    "plt.style.use('fivethirtyeight')\n",
    "\n",
    "fig1 = plt.figure()\n",
    "\n",
    "ax1 = fig1.add_subplot(1,1,1)\n",
    "\n",
    "def animate(p):\n",
    "    plot_data = open('test.txt','r').read()\n",
    "\n",
    "    line_data = plot_data.split('\\n')\n",
    "    x1=[]\n",
    "    y1=[]\n",
    "\n",
    "    for line in line_data:\n",
    "        if len(line)>1:\n",
    "            x,y = line.split(',')\n",
    "            x1.append(x)\n",
    "            y1.append(y)\n",
    "\n",
    "\n",
    "        ax1.clear()\n",
    "        ax1.plot(x1,y1)\n",
    "\n",
    "anime_data = animation.FuncAnimation(fig1, animate, interval = 500)\n",
    "\n",
    "plt.show()"
   ]
  },
  {
   "cell_type": "code",
   "execution_count": null,
   "metadata": {},
   "outputs": [],
   "source": []
  }
 ],
 "metadata": {
  "kernelspec": {
   "display_name": "Python 3",
   "language": "python",
   "name": "python3"
  },
  "language_info": {
   "codemirror_mode": {
    "name": "ipython",
    "version": 3
   },
   "file_extension": ".py",
   "mimetype": "text/x-python",
   "name": "python",
   "nbconvert_exporter": "python",
   "pygments_lexer": "ipython3",
   "version": "3.7.4"
  }
 },
 "nbformat": 4,
 "nbformat_minor": 2
}
